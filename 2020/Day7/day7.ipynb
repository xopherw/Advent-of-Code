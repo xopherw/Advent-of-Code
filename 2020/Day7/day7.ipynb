{
 "metadata": {
  "language_info": {
   "codemirror_mode": {
    "name": "ipython",
    "version": 3
   },
   "file_extension": ".py",
   "mimetype": "text/x-python",
   "name": "python",
   "nbconvert_exporter": "python",
   "pygments_lexer": "ipython3",
   "version": "3.7.7-final"
  },
  "orig_nbformat": 2,
  "kernelspec": {
   "name": "python37764bit94f289c21ed947e48e90bdce96d5e757",
   "display_name": "Python 3.7.7 64-bit"
  }
 },
 "nbformat": 4,
 "nbformat_minor": 2,
 "cells": [
  {
   "cell_type": "code",
   "execution_count": 1,
   "metadata": {},
   "outputs": [
    {
     "output_type": "execute_result",
     "data": {
      "text/plain": [
       "[['light red', 'bright white', 'muted yellow'],\n",
       " ['dark orange', 'bright white', 'muted yellow'],\n",
       " ['bright white', 'shiny gold'],\n",
       " ['muted yellow', 'shiny gold', 'faded blue'],\n",
       " ['shiny gold', 'dark olive', 'vibrant plum'],\n",
       " ['dark olive', 'faded blue', 'dotted black'],\n",
       " ['vibrant plum', 'faded blue', 'dotted black'],\n",
       " ['faded blue', 'None'],\n",
       " ['dotted black', 'None']]"
      ]
     },
     "metadata": {},
     "execution_count": 1
    }
   ],
   "source": [
    "import re\n",
    "df = [re.split('contain [0-9] | [0-9] | contain ',re.sub(r' \\bbag?s?.?','',i.replace('contain no other', ' contain None'))) for i in open(\"day7example.txt\",'r').read().splitlines()]\n",
    "df"
   ]
  },
  {
   "cell_type": "code",
   "execution_count": 2,
   "metadata": {},
   "outputs": [
    {
     "output_type": "stream",
     "name": "stdout",
     "text": [
      "bright white\nmuted yellow\n"
     ]
    }
   ],
   "source": [
    "shiny = []\n",
    "for i,j in enumerate(df):\n",
    "    for k in range(1,len(j)):\n",
    "        if(df[i][k] == 'shiny gold'): \n",
    "            shiny.append(j[0])\n",
    "            print(j[0])\n",
    "   \n"
   ]
  },
  {
   "cell_type": "code",
   "execution_count": 3,
   "metadata": {},
   "outputs": [],
   "source": [
    "for i,j in enumerate(df):\n",
    "    for k in range(1,len(j)):\n",
    "        if(df[i][k] in shiny): \n",
    "            shiny.append(j[0])\n"
   ]
  },
  {
   "cell_type": "code",
   "execution_count": 4,
   "metadata": {},
   "outputs": [
    {
     "output_type": "execute_result",
     "data": {
      "text/plain": [
       "['bright white',\n",
       " 'muted yellow',\n",
       " 'light red',\n",
       " 'light red',\n",
       " 'dark orange',\n",
       " 'dark orange']"
      ]
     },
     "metadata": {},
     "execution_count": 4
    }
   ],
   "source": [
    "shiny"
   ]
  }
 ]
}