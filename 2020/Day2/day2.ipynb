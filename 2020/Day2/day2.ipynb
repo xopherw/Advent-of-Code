{
 "metadata": {
  "language_info": {
   "codemirror_mode": {
    "name": "ipython",
    "version": 3
   },
   "file_extension": ".py",
   "mimetype": "text/x-python",
   "name": "python",
   "nbconvert_exporter": "python",
   "pygments_lexer": "ipython3",
   "version": "3.7.7-final"
  },
  "orig_nbformat": 2,
  "kernelspec": {
   "name": "python37764bit94f289c21ed947e48e90bdce96d5e757",
   "display_name": "Python 3.7.7 64-bit"
  }
 },
 "nbformat": 4,
 "nbformat_minor": 2,
 "cells": [
  {
   "source": [
    "Read text file and put into dataframe for further process"
   ],
   "cell_type": "markdown",
   "metadata": {}
  },
  {
   "cell_type": "code",
   "execution_count": 1,
   "metadata": {},
   "outputs": [
    {
     "output_type": "execute_result",
     "data": {
      "text/plain": [
       "     least  most letters             passcodes\n",
       "0        4     5       m                 mmpth\n",
       "1        1     7       r           rszchrrrzgr\n",
       "2        2     5       w            dgqtwwkwwc\n",
       "3       10    11       w        ldslpwbbqwpwtd\n",
       "4        3     4       s                 sszss\n",
       "..     ...   ...     ...                   ...\n",
       "995      8     9       d             ntgdwtdmh\n",
       "996      2     3       g                  gggl\n",
       "997     19    20       q  qqqqqxqqqqqqqqqqqqwd\n",
       "998      4    11       n      ljgdnkgftmsvntnn\n",
       "999     16    19       t  tttttttttttttttttttt\n",
       "\n",
       "[1000 rows x 4 columns]"
      ],
      "text/html": "<div>\n<style scoped>\n    .dataframe tbody tr th:only-of-type {\n        vertical-align: middle;\n    }\n\n    .dataframe tbody tr th {\n        vertical-align: top;\n    }\n\n    .dataframe thead th {\n        text-align: right;\n    }\n</style>\n<table border=\"1\" class=\"dataframe\">\n  <thead>\n    <tr style=\"text-align: right;\">\n      <th></th>\n      <th>least</th>\n      <th>most</th>\n      <th>letters</th>\n      <th>passcodes</th>\n    </tr>\n  </thead>\n  <tbody>\n    <tr>\n      <th>0</th>\n      <td>4</td>\n      <td>5</td>\n      <td>m</td>\n      <td>mmpth</td>\n    </tr>\n    <tr>\n      <th>1</th>\n      <td>1</td>\n      <td>7</td>\n      <td>r</td>\n      <td>rszchrrrzgr</td>\n    </tr>\n    <tr>\n      <th>2</th>\n      <td>2</td>\n      <td>5</td>\n      <td>w</td>\n      <td>dgqtwwkwwc</td>\n    </tr>\n    <tr>\n      <th>3</th>\n      <td>10</td>\n      <td>11</td>\n      <td>w</td>\n      <td>ldslpwbbqwpwtd</td>\n    </tr>\n    <tr>\n      <th>4</th>\n      <td>3</td>\n      <td>4</td>\n      <td>s</td>\n      <td>sszss</td>\n    </tr>\n    <tr>\n      <th>...</th>\n      <td>...</td>\n      <td>...</td>\n      <td>...</td>\n      <td>...</td>\n    </tr>\n    <tr>\n      <th>995</th>\n      <td>8</td>\n      <td>9</td>\n      <td>d</td>\n      <td>ntgdwtdmh</td>\n    </tr>\n    <tr>\n      <th>996</th>\n      <td>2</td>\n      <td>3</td>\n      <td>g</td>\n      <td>gggl</td>\n    </tr>\n    <tr>\n      <th>997</th>\n      <td>19</td>\n      <td>20</td>\n      <td>q</td>\n      <td>qqqqqxqqqqqqqqqqqqwd</td>\n    </tr>\n    <tr>\n      <th>998</th>\n      <td>4</td>\n      <td>11</td>\n      <td>n</td>\n      <td>ljgdnkgftmsvntnn</td>\n    </tr>\n    <tr>\n      <th>999</th>\n      <td>16</td>\n      <td>19</td>\n      <td>t</td>\n      <td>tttttttttttttttttttt</td>\n    </tr>\n  </tbody>\n</table>\n<p>1000 rows × 4 columns</p>\n</div>"
     },
     "metadata": {},
     "execution_count": 1
    }
   ],
   "source": [
    "import pandas as pd \n",
    "raw = pd.read_csv('day2.txt',header=None,delim_whitespace=True)\n",
    "df = pd.DataFrame(raw[0].str.split('-',1).tolist(),columns=['least','most'])\n",
    "df['letters'] = raw[1].replace({':':''}, regex=True)\n",
    "df['passcodes'] = raw[2]\n",
    "df.least = df.least.astype(int)\n",
    "df.most = df.most.astype(int)\n",
    "df"
   ]
  },
  {
   "source": [
    "Part One Solution"
   ],
   "cell_type": "markdown",
   "metadata": {}
  },
  {
   "cell_type": "code",
   "execution_count": 2,
   "metadata": {},
   "outputs": [],
   "source": [
    "valid1 = []\n",
    "for i,j in enumerate(df.passcodes):\n",
    "    count = 0\n",
    "    for k in j:\n",
    "        if(df.letters[i] == k): count += 1 # count how many times the letter appears in the passcode\n",
    "    if(df.least[i] <= count <= df.most[i]): valid1.append(True)\n",
    "    else: valid1.append(False)\n",
    "\n",
    "df['valid1'] = valid1"
   ]
  },
  {
   "cell_type": "code",
   "execution_count": 3,
   "metadata": {},
   "outputs": [
    {
     "output_type": "execute_result",
     "data": {
      "text/plain": [
       "True     591\n",
       "False    409\n",
       "Name: valid1, dtype: int64"
      ]
     },
     "metadata": {},
     "execution_count": 3
    }
   ],
   "source": [
    "df.valid1.value_counts() # Finally count the seperated values between True and False only to find the True"
   ]
  },
  {
   "source": [
    "Part Two Solution"
   ],
   "cell_type": "markdown",
   "metadata": {}
  },
  {
   "cell_type": "code",
   "execution_count": 4,
   "metadata": {},
   "outputs": [],
   "source": [
    "valid2 = [] # store valid passwords by using booleans\n",
    "for i,j in enumerate(df.passcodes): # Since the question said letter appears on ANY two position BUT not apear on BOTH positions.\n",
    "    if(df.letters[i] == j[df.least[i]-1] and df.letters[i] != j[df.most[i]-1]): # True when letter appeared in the first number but not on the second \n",
    "        valid2.append(True)\n",
    "    elif(df.letters[i] != j[df.least[i]-1] and df.letters[i] == j[df.most[i]-1]): # True when letter appeared in the second number but not on the first \n",
    "        valid2.append(True)\n",
    "    else: \n",
    "        valid2.append(False)\n",
    "df['valid2'] = valid2 # create a new column data with rows of bools"
   ]
  },
  {
   "cell_type": "code",
   "execution_count": 5,
   "metadata": {},
   "outputs": [
    {
     "output_type": "execute_result",
     "data": {
      "text/plain": [
       "False    665\n",
       "True     335\n",
       "Name: valid2, dtype: int64"
      ]
     },
     "metadata": {},
     "execution_count": 5
    }
   ],
   "source": [
    "df.valid2.value_counts() # Finally count the seperated values between True and False only to find the True"
   ]
  },
  {
   "cell_type": "code",
   "execution_count": null,
   "metadata": {},
   "outputs": [],
   "source": []
  }
 ]
}