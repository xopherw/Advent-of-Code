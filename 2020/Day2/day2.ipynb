{
 "metadata": {
  "language_info": {
   "codemirror_mode": {
    "name": "ipython",
    "version": 3
   },
   "file_extension": ".py",
   "mimetype": "text/x-python",
   "name": "python",
   "nbconvert_exporter": "python",
   "pygments_lexer": "ipython3",
   "version": "3.7.7-final"
  },
  "orig_nbformat": 2,
  "kernelspec": {
   "name": "python37764bit94f289c21ed947e48e90bdce96d5e757",
   "display_name": "Python 3.7.7 64-bit"
  }
 },
 "nbformat": 4,
 "nbformat_minor": 2,
 "cells": [
  {
   "source": [
    "Read text file and put into dataframe for further process"
   ],
   "cell_type": "markdown",
   "metadata": {}
  },
  {
   "cell_type": "code",
   "execution_count": 1,
   "metadata": {},
   "outputs": [],
   "source": [
    "import pandas as pd \n",
    "raw = pd.read_csv('day2.txt',header=None,delim_whitespace=True)\n",
    "df = pd.DataFrame(raw[0].str.split('-',1).tolist(),columns=['least','most'])\n",
    "df['letters'] = raw[1].replace({':':''}, regex=True)\n",
    "df['passcodes'] = raw[2]\n",
    "df.least = df.least.astype(int)\n",
    "df.most = df.most.astype(int)"
   ]
  },
  {
   "source": [
    "Part One Solution"
   ],
   "cell_type": "markdown",
   "metadata": {}
  },
  {
   "cell_type": "code",
   "execution_count": 2,
   "metadata": {},
   "outputs": [],
   "source": [
    "valid1 = []\n",
    "for i,j in enumerate(df.passcodes):\n",
    "    count = 0\n",
    "    for k in j:\n",
    "        if(df.letters[i] == k): count += 1 # count how many times the letter appears in the passcode\n",
    "    if(df.least[i] <= count <= df.most[i]): valid1.append(True)\n",
    "    else: valid1.append(False)\n",
    "\n",
    "df['valid1'] = valid1"
   ]
  },
  {
   "cell_type": "code",
   "execution_count": 3,
   "metadata": {},
   "outputs": [
    {
     "output_type": "execute_result",
     "data": {
      "text/plain": [
       "True     591\n",
       "False    409\n",
       "Name: valid1, dtype: int64"
      ]
     },
     "metadata": {},
     "execution_count": 3
    }
   ],
   "source": [
    "df.valid1.value_counts() # Finally count the seperated values between True and False only to find the True"
   ]
  },
  {
   "source": [
    "Part Two Solution"
   ],
   "cell_type": "markdown",
   "metadata": {}
  },
  {
   "cell_type": "code",
   "execution_count": 4,
   "metadata": {},
   "outputs": [],
   "source": [
    "valid2 = [] # store valid passwords by using booleans\n",
    "for i,j in enumerate(df.passcodes): # Since the question said letter appears on ANY two position BUT not apear on BOTH positions.\n",
    "    if(df.letters[i] == j[df.least[i]-1] and df.letters[i] != j[df.most[i]-1]): # True when letter appeared in the first number but not on the second \n",
    "        valid2.append(True)\n",
    "    elif(df.letters[i] != j[df.least[i]-1] and df.letters[i] == j[df.most[i]-1]): # True when letter appeared in the second number but not on the first \n",
    "        valid2.append(True)\n",
    "    else: \n",
    "        valid2.append(False)\n",
    "df['valid2'] = valid2 # create a new column data with rows of bools"
   ]
  },
  {
   "cell_type": "code",
   "execution_count": 5,
   "metadata": {},
   "outputs": [
    {
     "output_type": "execute_result",
     "data": {
      "text/plain": [
       "False    665\n",
       "True     335\n",
       "Name: valid2, dtype: int64"
      ]
     },
     "metadata": {},
     "execution_count": 5
    }
   ],
   "source": [
    "df.valid2.value_counts()    # Finally count the seperated values between True and False only to find the True"
   ]
  },
  {
   "source": [],
   "cell_type": "markdown",
   "metadata": {}
  },
  {
   "source": [
    "If done in regex"
   ],
   "cell_type": "markdown",
   "metadata": {}
  },
  {
   "cell_type": "code",
   "execution_count": 6,
   "metadata": {},
   "outputs": [],
   "source": [
    "import re\n",
    "filer = open('day2.txt','r')\n",
    "a = [re.split('-| |:\\s',i.strip()) for i in filer.readlines()]  # seperate special characters into columns and rows of data"
   ]
  },
  {
   "cell_type": "code",
   "execution_count": 7,
   "metadata": {},
   "outputs": [],
   "source": [
    "# Enum the list to find the index, and use the index to find out if letter occurance is within the mentioned numbers, if true, the list will be appended with only right answers.\n",
    "part1 = [j for i,j in enumerate(a) if(int(a[i][0]) <= a[i][3].count(a[i][2]) <= int(a[i][1]))]  "
   ]
  },
  {
   "cell_type": "code",
   "execution_count": 8,
   "metadata": {},
   "outputs": [
    {
     "output_type": "execute_result",
     "data": {
      "text/plain": [
       "591"
      ]
     },
     "metadata": {},
     "execution_count": 8
    }
   ],
   "source": [
    "len(part1) # the numbers of valid anwers"
   ]
  },
  {
   "cell_type": "code",
   "execution_count": 9,
   "metadata": {},
   "outputs": [],
   "source": [
    "# same methods, except the if statement is changed to match part 2 logic: where either first or last number has to appear the character, otherwise false.\n",
    "part2 = [j for i,j in enumerate(a) if((a[i][3][int(a[i][0])-1] == a[i][2]) != (a[i][3][int(a[i][1])-1] == a[i][2]))] "
   ]
  },
  {
   "cell_type": "code",
   "execution_count": 10,
   "metadata": {},
   "outputs": [
    {
     "output_type": "execute_result",
     "data": {
      "text/plain": [
       "335"
      ]
     },
     "metadata": {},
     "execution_count": 10
    }
   ],
   "source": [
    "len(part2) # the numbers of valid anwers"
   ]
  }
 ]
}