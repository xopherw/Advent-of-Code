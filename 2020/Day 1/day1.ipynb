{
 "metadata": {
  "language_info": {
   "codemirror_mode": {
    "name": "ipython",
    "version": 3
   },
   "file_extension": ".py",
   "mimetype": "text/x-python",
   "name": "python",
   "nbconvert_exporter": "python",
   "pygments_lexer": "ipython3",
   "version": "3.7.7-final"
  },
  "orig_nbformat": 2,
  "kernelspec": {
   "name": "python37764bit94f289c21ed947e48e90bdce96d5e757",
   "display_name": "Python 3.7.7 64-bit"
  }
 },
 "nbformat": 4,
 "nbformat_minor": 2,
 "cells": [
  {
   "source": [
    "Extract the input into list, clean some format and converted string to int"
   ],
   "cell_type": "markdown",
   "metadata": {}
  },
  {
   "cell_type": "code",
   "execution_count": 1,
   "metadata": {},
   "outputs": [],
   "source": [
    "import pandas as pd\n",
    "\n",
    "df = pd.read_csv('Day1.csv',header=None)[0].to_list()\n",
    "\n",
    "df = [s.strip('\\\\') for s in df]\n",
    "\n",
    "df = list(map(int,df))\n"
   ]
  },
  {
   "source": [
    "Extract numbers that is fewer than 1000"
   ],
   "cell_type": "markdown",
   "metadata": {}
  },
  {
   "cell_type": "code",
   "execution_count": 2,
   "metadata": {},
   "outputs": [],
   "source": [
    "low1000index = [] # Index that appear to be fewer than 1000 from df list\n",
    "low1000 = []    # Numbers that are fewer than 1000 to be stored in this list\n",
    "\n",
    "for i in range(len(df)):\n",
    "    if(df[i] < 1000):\n",
    "        low1000index.append(i)\n",
    "low1000.append([df[i] for i in low1000index])\n",
    "low1000 = low1000[0]"
   ]
  },
  {
   "source": [
    "Part One Solution"
   ],
   "cell_type": "markdown",
   "metadata": {}
  },
  {
   "cell_type": "code",
   "execution_count": 3,
   "metadata": {},
   "outputs": [
    {
     "output_type": "stream",
     "name": "stdout",
     "text": [
      "951 + 1069 = 2020\n951 * 1069 = 1016619\n"
     ]
    }
   ],
   "source": [
    "for i in low1000:\n",
    "    for j in df:\n",
    "     if(i != j):\n",
    "         if(i + j == 2020):\n",
    "             print(f'{i} + {j} = {i+j}')\n",
    "             print(f'{i} * {j} = {i*j}')"
   ]
  },
  {
   "source": [
    "Part Two Solution. \n",
    "\n",
    "NOTE: never assume 3 sum numbers to 2020 are always fewer than 1000."
   ],
   "cell_type": "markdown",
   "metadata": {}
  },
  {
   "cell_type": "code",
   "execution_count": 4,
   "metadata": {},
   "outputs": [
    {
     "output_type": "stream",
     "name": "stdout",
     "text": [
      "473 + 405 + 1142 = 2020\n473 * 405 * 1142 = 218767230\n"
     ]
    }
   ],
   "source": [
    "all = []\n",
    "c1 = 0\n",
    "while(c1 < len(df)-2):\n",
    "    c2 = c1 + 1\n",
    "    while(c2 < len(df) -1):\n",
    "        c3 = c2+1\n",
    "        while(c3 < len(df)):\n",
    "            if(df[c1] + df[c2] + df[c3] == 2020):\n",
    "                print(f'{df[c1]} + {df[c2]} + {df[c3]} = {df[c1] + df[c2] + df[c3]}')\n",
    "                print(f'{df[c1]} * {df[c2]} * {df[c3]} = {df[c1] * df[c2] * df[c3]}')\n",
    "            all.append(df[c1] + df[c2] + df[c3])\n",
    "            c3 += 1\n",
    "        c2 += 1\n",
    "    c1 += 1"
   ]
  }
 ]
}