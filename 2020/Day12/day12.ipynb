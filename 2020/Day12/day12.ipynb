{
 "metadata": {
  "language_info": {
   "codemirror_mode": {
    "name": "ipython",
    "version": 3
   },
   "file_extension": ".py",
   "mimetype": "text/x-python",
   "name": "python",
   "nbconvert_exporter": "python",
   "pygments_lexer": "ipython3",
   "version": "3.7.7-final"
  },
  "orig_nbformat": 2,
  "kernelspec": {
   "name": "python37764bit94f289c21ed947e48e90bdce96d5e757",
   "display_name": "Python 3.7.7 64-bit",
   "language": "python"
  }
 },
 "nbformat": 4,
 "nbformat_minor": 2,
 "cells": [
  {
   "cell_type": "code",
   "execution_count": 1,
   "metadata": {},
   "outputs": [
    {
     "output_type": "execute_result",
     "data": {
      "text/plain": [
       "[['F', 10], ['N', 3], ['F', 7], ['R', 90], ['F', 11]]"
      ]
     },
     "metadata": {},
     "execution_count": 1
    }
   ],
   "source": [
    "import math\n",
    "df = [[i[0], int(i[1:])] for i in open('day12example.txt').read().splitlines()]\n",
    "df"
   ]
  },
  {
   "cell_type": "code",
   "execution_count": 2,
   "metadata": {},
   "outputs": [],
   "source": [
    "def course(my_dir, direction):\n",
    "    if('L' in direction[0]): my_dir[2] = my_dir[2] + direction[1]\n",
    "    elif('R' in direction[0]): my_dir[2] = my_dir[2] - direction[1]\n",
    "\n",
    "    cos = int(math.cos(math.radians(my_dir[2])))\n",
    "    sin = int(math.sin(math.radians(my_dir[2])))\n",
    "\n",
    "    if(cos == 1): my_dir[1] = 'E'\n",
    "    if(cos == -1): my_dir[1] = 'W'\n",
    "    if(sin == 1): my_dir[1] = 'N'\n",
    "    if(sin == -1): my_dir[1] = 'S'\n",
    "    return my_dir\n",
    "\n",
    "# def forward(my_dir, points):\n",
    "\n",
    "     \n"
   ]
  },
  {
   "source": [
    "my_dir = [{'E':0,'N':0,'W':0,'S':0},'E',0]\n",
    "my_dir = course(my_dir, df[3])\n",
    "my_dir\n"
   ],
   "cell_type": "code",
   "metadata": {},
   "execution_count": 3,
   "outputs": [
    {
     "output_type": "execute_result",
     "data": {
      "text/plain": [
       "[{'E': 0, 'N': 0, 'W': 0, 'S': 0}, 'S', -90]"
      ]
     },
     "metadata": {},
     "execution_count": 3
    }
   ]
  },
  {
   "cell_type": "code",
   "execution_count": 4,
   "metadata": {},
   "outputs": [
    {
     "output_type": "stream",
     "name": "stdout",
     "text": [
      "[{'E': 0, 'N': 0, 'W': 0, 'S': 0}, 'W', -180]\n"
     ]
    }
   ],
   "source": [
    "my_dir = course(my_dir,df[3])\n",
    "print(my_dir)\n",
    "my_dir = course(my_dir,['L',180])"
   ]
  },
  {
   "cell_type": "code",
   "execution_count": 5,
   "metadata": {},
   "outputs": [
    {
     "output_type": "execute_result",
     "data": {
      "text/plain": [
       "[{'E': 0, 'N': 0, 'W': 0, 'S': 0}, 'E', 0]"
      ]
     },
     "metadata": {},
     "execution_count": 5
    }
   ],
   "source": [
    "my_dir"
   ]
  },
  {
   "cell_type": "code",
   "execution_count": 7,
   "metadata": {},
   "outputs": [
    {
     "output_type": "stream",
     "name": "stdout",
     "text": [
      "E\nN\nW\nS\n"
     ]
    }
   ],
   "source": [
    "for i in my_dir[0]:\n",
    "    # if(my_dir[1] in i): \n",
    "    print(i)"
   ]
  },
  {
   "cell_type": "code",
   "execution_count": null,
   "metadata": {},
   "outputs": [],
   "source": []
  }
 ]
}