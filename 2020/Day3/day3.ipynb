{
 "metadata": {
  "language_info": {
   "codemirror_mode": {
    "name": "ipython",
    "version": 3
   },
   "file_extension": ".py",
   "mimetype": "text/x-python",
   "name": "python",
   "nbconvert_exporter": "python",
   "pygments_lexer": "ipython3",
   "version": "3.7.7-final"
  },
  "orig_nbformat": 2,
  "kernelspec": {
   "name": "python37764bit94f289c21ed947e48e90bdce96d5e757",
   "display_name": "Python 3.7.7 64-bit"
  }
 },
 "nbformat": 4,
 "nbformat_minor": 2,
 "cells": [
  {
   "source": [
    "Import modules and data. Declare data frame"
   ],
   "cell_type": "markdown",
   "metadata": {}
  },
  {
   "cell_type": "code",
   "execution_count": 1,
   "metadata": {},
   "outputs": [],
   "source": [
    "import pandas as pd\n",
    "raw = pd.read_csv('day3.txt',header=None)[0]\n",
    "df1 = pd.DataFrame((i*len(raw) for i in raw),columns=['sequence'])\n",
    "df2 = pd.DataFrame((i*len(raw) for i in raw),columns=['sequence'])"
   ]
  },
  {
   "source": [
    "Part One Solution"
   ],
   "cell_type": "markdown",
   "metadata": {}
  },
  {
   "cell_type": "code",
   "execution_count": 2,
   "metadata": {},
   "outputs": [
    {
     "output_type": "stream",
     "name": "stdout",
     "text": [
      "                                              sequence\n0    .....#.........#...#..##....#.......#............\n1    .#.O......#...#........#........#........#...#...\n2    ......X......#..#...#....#.#..#......#......#....\n3    ...#.####X.#.......##.#...........#.#####.#......\n4    ...........#O.....#..#.....#..............#......\n..                                                 ...\n318  ...##...#...........#..#......#...##...#.........\n319  ..#...#####..#.#.##....##........#...#####..#....\n320  ...........#......#.#..#..................#......\n321  ..#....##..#.##.......#.#.#..#...#....##..#.##...\n322  ..#..#........#...#.......#......#..#........#...\n\n[323 rows x 1 columns]\n\nThere are 189 trees\n"
     ]
    }
   ],
   "source": [
    "count = 0\n",
    "for i,j in enumerate(df1.sequence):\n",
    "    if(i > 0): \n",
    "        if(j[i*3] == '#'):\n",
    "            count += 1\n",
    "            df1.sequence[i] = df1.sequence[i][0:i*3] + 'X' + df1.sequence[i][(i*3)+1:]\n",
    "        else:\n",
    "            df1.sequence[i] = df1.sequence[i][0:i*3] + 'O' + df1.sequence[i][(i*3)+1:]\n",
    "print(df1)\n",
    "print(f'\\nThere are {count} trees')"
   ]
  },
  {
   "source": [
    "Part Two Solution"
   ],
   "cell_type": "markdown",
   "metadata": {}
  },
  {
   "cell_type": "code",
   "execution_count": 3,
   "metadata": {},
   "outputs": [
    {
     "output_type": "stream",
     "name": "stdout",
     "text": [
      "74 189 65 63 30\n\nThere are total of 1718180100 trees\n"
     ]
    }
   ],
   "source": [
    "counter1 = 0\n",
    "counter2 = 0\n",
    "counter3 = 0\n",
    "counter4 = 0\n",
    "counter5 = 0\n",
    "\n",
    "for i,j in enumerate(df2.sequence): # Right 1, Down 1\n",
    "    if(i > 0): \n",
    "        if(j[i] == '#'):\n",
    "            counter1 += 1\n",
    "\n",
    "for i,j in enumerate(df2.sequence): # Right 3, Down 1\n",
    "    if(i > 0): \n",
    "        if(j[i*3] == '#'):\n",
    "            counter2 += 1\n",
    "for i,j in enumerate(df2.sequence): # Right 5, Down 1\n",
    "    if(i > 0): \n",
    "        if(j[i*5] == '#'):\n",
    "            counter3 += 1\n",
    "for i,j in enumerate(df2.sequence): # Right 7, Down 1\n",
    "    if(i > 0): \n",
    "        if(j[i*7] == '#'):\n",
    "            counter4 += 1    \n",
    "\n",
    "for i,j in enumerate(df2.sequence): # Right 1, Down 2\n",
    "    if(i%2 == 0 and j[i-int(i/2)] == '#'):\n",
    "            counter5 += 1\n",
    "\n",
    "print(counter1, counter2, counter3, counter4, counter5)\n",
    "print(f'\\nThere are total of {counter1 * counter2 * counter3 * counter4 * counter5} trees')"
   ]
  },
  {
   "source": [],
   "cell_type": "markdown",
   "metadata": {}
  },
  {
   "source": [
    "Regex method"
   ],
   "cell_type": "markdown",
   "metadata": {}
  },
  {
   "cell_type": "code",
   "execution_count": 4,
   "metadata": {},
   "outputs": [],
   "source": [
    "import re\n",
    "filer = open('day3.txt','r')\n",
    "a =[i.strip()*100 for i in filer.readlines()]"
   ]
  },
  {
   "source": [
    "Part One Solution"
   ],
   "cell_type": "markdown",
   "metadata": {}
  },
  {
   "cell_type": "code",
   "execution_count": 5,
   "metadata": {},
   "outputs": [
    {
     "output_type": "stream",
     "name": "stdout",
     "text": [
      "Part 1 answer is 189\n"
     ]
    }
   ],
   "source": [
    "print(f'Part 1 answer is {len([j for i,j in enumerate(a) if(i >0 and a[i][i*3] == \"#\")])}')"
   ]
  },
  {
   "source": [
    "Part Two Solution"
   ],
   "cell_type": "markdown",
   "metadata": {}
  },
  {
   "cell_type": "code",
   "execution_count": 6,
   "metadata": {},
   "outputs": [
    {
     "output_type": "stream",
     "name": "stdout",
     "text": [
      "Slope 1 has 74 trees\nSlope 2 has 189 trees\nSlope 3 has 65 trees\nSlope 4 has 63 trees\nSlope 5 has 30 trees\nTotal trees is 1718180100\n"
     ]
    }
   ],
   "source": [
    "print(f'Slope 1 has {len([j for i,j in enumerate(a) if(i > 0 and a[i][i] == \"#\")])} trees')\n",
    "print(f'Slope 2 has {len([j for i,j in enumerate(a) if(i > 0 and a[i][i*3] == \"#\")])} trees')\n",
    "print(f'Slope 3 has {len([j for i,j in enumerate(a) if(i> 0 and a[i][i*5] == \"#\")])} trees')\n",
    "print(f'Slope 4 has {len([j for i,j in enumerate(a) if(i != 0 and a[i][i*7] == \"#\")])} trees')\n",
    "print(f'Slope 5 has {len([j for i,j in enumerate(a) if(i != 0 and i%2 == 0 and a[i][i - int(i/2)] == \"#\")])} trees')\n",
    "print('Total trees is',len([j for i,j in enumerate(a) if(i > 0 and a[i][i] == \"#\")])*len([j for i,j in enumerate(a) if(i > 0 and a[i][i*3] == \"#\")])*len([j for i,j in enumerate(a) if(i> 0 and a[i][i*5] == \"#\")])*len([j for i,j in enumerate(a) if(i != 0 and a[i][i*7] == \"#\")])*len([j for i,j in enumerate(a) if(i != 0 and i%2 == 0 and a[i][i - int(i/2)] == \"#\")]))"
   ]
  }
 ]
}