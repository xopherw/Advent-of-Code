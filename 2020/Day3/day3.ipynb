{
 "metadata": {
  "language_info": {
   "codemirror_mode": {
    "name": "ipython",
    "version": 3
   },
   "file_extension": ".py",
   "mimetype": "text/x-python",
   "name": "python",
   "nbconvert_exporter": "python",
   "pygments_lexer": "ipython3",
   "version": "3.7.7-final"
  },
  "orig_nbformat": 2,
  "kernelspec": {
   "name": "python37764bit94f289c21ed947e48e90bdce96d5e757",
   "display_name": "Python 3.7.7 64-bit"
  }
 },
 "nbformat": 4,
 "nbformat_minor": 2,
 "cells": [
  {
   "source": [
    "Import modules and data. Declare data frame"
   ],
   "cell_type": "markdown",
   "metadata": {}
  },
  {
   "cell_type": "code",
   "execution_count": 1,
   "metadata": {},
   "outputs": [],
   "source": [
    "import pandas as pd\n",
    "raw = pd.read_csv('day3.txt',header=None)[0]\n",
    "df = pd.DataFrame((i*len(raw) for i in raw),columns=['sequence'])"
   ]
  },
  {
   "source": [
    "Part One Solution"
   ],
   "cell_type": "markdown",
   "metadata": {}
  },
  {
   "cell_type": "code",
   "execution_count": 2,
   "metadata": {},
   "outputs": [],
   "source": [
    "count = 0\n",
    "for i,j in enumerate(df.sequence):\n",
    "    if(i > 0): \n",
    "        if(j[i*3] == '#'):\n",
    "            count += 1\n",
    "            df.sequence[i] = df.sequence[i][0:i*3] + 'X' + df.sequence[i][(i*3)+1:]\n",
    "        else:\n",
    "            df.sequence[i] = df.sequence[i][0:i*3] + 'O' + df.sequence[i][(i*3)+1:]\n",
    "print(df)\n",
    "print(f'\\nThere are {count} trees')"
   ]
  },
  {
   "source": [
    "Part Two Solution"
   ],
   "cell_type": "markdown",
   "metadata": {}
  },
  {
   "cell_type": "code",
   "execution_count": 3,
   "metadata": {},
   "outputs": [
    {
     "output_type": "stream",
     "name": "stdout",
     "text": [
      "74 189 65 63 30\n\nThere are total of 1718180100 trees\n"
     ]
    }
   ],
   "source": [
    "counter1 = 0\n",
    "counter2 = 0\n",
    "counter3 = 0\n",
    "counter4 = 0\n",
    "counter5 = 0\n",
    "\n",
    "for i,j in enumerate(df.sequence): # Right 1, Down 1\n",
    "    if(i > 0): \n",
    "        if(j[i] == '#'):\n",
    "            counter1 += 1\n",
    "\n",
    "for i,j in enumerate(df.sequence): # Right 3, Down 1\n",
    "    if(i > 0): \n",
    "        if(j[i*3] == '#'):\n",
    "            counter2 += 1\n",
    "for i,j in enumerate(df.sequence): # Right 5, Down 1\n",
    "    if(i > 0): \n",
    "        if(j[i*5] == '#'):\n",
    "            counter3 += 1\n",
    "for i,j in enumerate(df.sequence): # Right 7, Down 1\n",
    "    if(i > 0): \n",
    "        if(j[i*7] == '#'):\n",
    "            counter4 += 1    \n",
    "\n",
    "for i,j in enumerate(df.sequence): # Right 1, Down 2\n",
    "    if(i%2 == 0 and j[i-int(i/2)] == '#'):\n",
    "            counter5 += 1\n",
    "\n",
    "print(counter1, counter2, counter3, counter4, counter5)\n",
    "print(f'\\nThere are total of {counter1 * counter2 * counter3 * counter4 * counter5} trees')"
   ]
  },
  {
   "cell_type": "code",
   "execution_count": null,
   "metadata": {},
   "outputs": [],
   "source": []
  }
 ]
}