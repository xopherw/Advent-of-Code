{
 "metadata": {
  "language_info": {
   "codemirror_mode": {
    "name": "ipython",
    "version": 3
   },
   "file_extension": ".py",
   "mimetype": "text/x-python",
   "name": "python",
   "nbconvert_exporter": "python",
   "pygments_lexer": "ipython3",
   "version": "3.7.7-final"
  },
  "orig_nbformat": 2,
  "kernelspec": {
   "name": "python37764bit94f289c21ed947e48e90bdce96d5e757",
   "display_name": "Python 3.7.7 64-bit"
  }
 },
 "nbformat": 4,
 "nbformat_minor": 2,
 "cells": [
  {
   "cell_type": "code",
   "execution_count": 1,
   "metadata": {},
   "outputs": [],
   "source": [
    "filer1 = open('day5.txt')\n",
    "df1 = [i.strip() for i in filer1.readlines()]"
   ]
  },
  {
   "source": [
    "Part 1 Solution"
   ],
   "cell_type": "markdown",
   "metadata": {}
  },
  {
   "cell_type": "code",
   "execution_count": 2,
   "metadata": {},
   "outputs": [
    {
     "output_type": "execute_result",
     "data": {
      "text/plain": [
       "894"
      ]
     },
     "metadata": {},
     "execution_count": 2
    }
   ],
   "source": [
    "part1 = []\n",
    "for i in df1:\n",
    "    rows, cols = [i for i in range(128)], [i for i in range(8)]\n",
    "    for j in i:\n",
    "        if('F' in j):\n",
    "            rows = rows[:int(len(rows)/2)]\n",
    "        elif('B' in j):\n",
    "            rows = rows[int(len(rows)/2):]\n",
    "        if('L' in j):\n",
    "            cols = cols[:int(len(cols)/2)]\n",
    "        elif('R' in j):\n",
    "            cols = cols[int(len(cols)/2):]\n",
    "    part1.append([rows[0], cols[0], rows[0]*8 + cols[0]])\n",
    "\n",
    "max([i for i in [j[2] for j in part1]])     # Find max number in whole list of seat id"
   ]
  },
  {
   "source": [],
   "cell_type": "markdown",
   "metadata": {}
  },
  {
   "source": [
    "Part 2 Solution"
   ],
   "cell_type": "markdown",
   "metadata": {}
  },
  {
   "cell_type": "code",
   "execution_count": 3,
   "metadata": {},
   "outputs": [],
   "source": [
    "part1.sort()"
   ]
  },
  {
   "cell_type": "code",
   "execution_count": 4,
   "metadata": {},
   "outputs": [],
   "source": [
    "seat_id = [i[2] for i in [j for j in part1]]"
   ]
  },
  {
   "cell_type": "code",
   "execution_count": 6,
   "metadata": {},
   "outputs": [
    {
     "output_type": "execute_result",
     "data": {
      "text/plain": [
       "[579]"
      ]
     },
     "metadata": {},
     "execution_count": 6
    }
   ],
   "source": [
    "[x for x in range(seat_id[0], seat_id[-1]+1) if x not in seat_id]"
   ]
  }
 ]
}