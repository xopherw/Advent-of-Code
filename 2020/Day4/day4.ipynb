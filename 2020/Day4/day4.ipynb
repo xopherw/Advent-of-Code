{
 "metadata": {
  "language_info": {
   "codemirror_mode": {
    "name": "ipython",
    "version": 3
   },
   "file_extension": ".py",
   "mimetype": "text/x-python",
   "name": "python",
   "nbconvert_exporter": "python",
   "pygments_lexer": "ipython3",
   "version": "3.7.7-final"
  },
  "orig_nbformat": 2,
  "kernelspec": {
   "name": "python37764bit94f289c21ed947e48e90bdce96d5e757",
   "display_name": "Python 3.7.7 64-bit"
  }
 },
 "nbformat": 4,
 "nbformat_minor": 2,
 "cells": [
  {
   "cell_type": "code",
   "execution_count": 1,
   "metadata": {},
   "outputs": [],
   "source": [
    "import re,string\n",
    "filer1 = open('day4.txt','r')\n",
    "filer2 = open('day4.txt','r')\n",
    "\n",
    "df1 = [i for i in re.split(\"\\n \\n\"  ,\" \".join([i for i in filer1.readlines()]))]\n",
    "df2 = [i for i in re.split(\"\\n \\n| |\\n\"  ,\"\".join([i for i in filer2.readlines()]))]\n"
   ]
  },
  {
   "source": [
    "Part One Solution"
   ],
   "cell_type": "markdown",
   "metadata": {}
  },
  {
   "cell_type": "code",
   "execution_count": 2,
   "metadata": {},
   "outputs": [],
   "source": [
    "part1 = [i for i in df1 if('ecl' in i and 'pid' in i and 'eyr' in i and 'hcl' in i and 'byr' in i and 'iyr' in i and 'hgt' in i)]"
   ]
  },
  {
   "cell_type": "code",
   "execution_count": 3,
   "metadata": {},
   "outputs": [
    {
     "output_type": "execute_result",
     "data": {
      "text/plain": [
       "239"
      ]
     },
     "metadata": {},
     "execution_count": 3
    }
   ],
   "source": [
    "len(part1)"
   ]
  },
  {
   "source": [],
   "cell_type": "markdown",
   "metadata": {}
  },
  {
   "source": [
    "Part Two Solution"
   ],
   "cell_type": "markdown",
   "metadata": {}
  },
  {
   "cell_type": "code",
   "execution_count": 4,
   "metadata": {},
   "outputs": [],
   "source": [
    "a, b = [], {}\n",
    "for i in range(len(df2)):\n",
    "    if(df2[i] !=''): \n",
    "        b[df2[i][:3]] = df2[i][4:]\n",
    "    else:\n",
    "        a.append(b)\n",
    "        b={}"
   ]
  },
  {
   "cell_type": "code",
   "execution_count": 5,
   "metadata": {},
   "outputs": [],
   "source": [
    "match_keys =['eyr', 'byr','iyr','hgt', 'hcl', 'ecl', 'pid']     # for looping to check string is in each key\n",
    "match_ecl = ['amb', 'blu', 'brn', 'gry', 'grn','hzl', 'oth']    # for looping to check if any of the color is in the value\n",
    "match_hgt = ['cm','in']                                         # for looping to check either in or cm in hgt unit\n",
    "\n",
    "#--------------------------------------------------#\n",
    "# here are the logic I sketched out and used it in the next one-line of code.\n",
    "\n",
    "# all([i in [] for i in match_keys])  # check all key values matched\n",
    "# any([i in ['ecl'] for i in match_ecl])    # check any eye colors matched\n",
    "# re.match(r'[0-9]{9}$' ,['pid']))    # check if format is correct for pid values\n",
    "# if(re.match(r'^#[0-9, a-f]{6}$' ,['hcl']))   # check if format is correct for hcl values\n",
    "# (1920 <= int(['byr']) <= 2002)  # check byr if in range\n",
    "# (2010 <= int(['iyr']) <= 2020)  # check iyr if in range\n",
    "# (2020 <= int(['eyr']) <= 2030)  # check eyr if in range\n",
    "# any([j in ['hgt'] for j in match_hgt]) and (( match_hgt[0] in ['hgt'][-2:] and 150 <= int(['hgt'][:-2]) <= 193 ) or ( match_hgt[1] in ['hgt'][-2:] and 59 <= int(['hgt'][:-2]) <= 76 ))       # check any height unit matched, and also if cm/in in ranged"
   ]
  },
  {
   "cell_type": "code",
   "execution_count": 6,
   "metadata": {},
   "outputs": [],
   "source": [
    "part2 = [i for i in a if(all([j in i for j in match_keys]) and any([k in i['ecl'] for k in match_ecl]) and re.match(r'[0-9]{9}$' ,i['pid']) and re.match(r'^#[0-9, a-f]{6}$',i['hcl']) and (1920 <= int(i['byr']) <= 2002) and (2010 <= int(i['iyr']) <= 2020) and (2020 <= int(i['eyr']) <= 2030) and any([l in i['hgt'] for l in match_hgt]) and (( match_hgt[0] in i['hgt'][-2:] and 150 <= int(i['hgt'][:-2]) <= 193 ) or ( match_hgt[1] in i['hgt'][-2:] and 59 <= int(i['hgt'][:-2]) <= 76 ))  )]"
   ]
  },
  {
   "cell_type": "code",
   "execution_count": 7,
   "metadata": {},
   "outputs": [
    {
     "output_type": "execute_result",
     "data": {
      "text/plain": [
       "188"
      ]
     },
     "metadata": {},
     "execution_count": 7
    }
   ],
   "source": [
    "len(part2)"
   ]
  }
 ]
}