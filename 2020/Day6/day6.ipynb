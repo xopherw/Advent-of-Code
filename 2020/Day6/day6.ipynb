{
 "metadata": {
  "language_info": {
   "codemirror_mode": {
    "name": "ipython",
    "version": 3
   },
   "file_extension": ".py",
   "mimetype": "text/x-python",
   "name": "python",
   "nbconvert_exporter": "python",
   "pygments_lexer": "ipython3",
   "version": "3.7.7-final"
  },
  "orig_nbformat": 2,
  "kernelspec": {
   "name": "python37764bit94f289c21ed947e48e90bdce96d5e757",
   "display_name": "Python 3.7.7 64-bit"
  }
 },
 "nbformat": 4,
 "nbformat_minor": 2,
 "cells": [
  {
   "cell_type": "code",
   "execution_count": 1,
   "metadata": {},
   "outputs": [],
   "source": [
    "import re \n",
    "filer = open('day6example.txt','r')\n",
    "\n",
    "p = [i.replace('\\n','') for i in filer.read().split('\\n\\n')]\n"
   ]
  },
  {
   "cell_type": "code",
   "execution_count": 2,
   "metadata": {},
   "outputs": [
    {
     "output_type": "stream",
     "name": "stdout",
     "text": [
      "first loop: {'a'}\nsecond loop: {'a'}\nsecond loop: set()\nsecond loop: set()\nfirst loop: {'a'}\nsecond loop: {'a'}\nsecond loop: set()\nsecond loop: set()\nfirst loop: {'a'}\nsecond loop: {'a'}\nsecond loop: set()\nsecond loop: set()\nsecond loop: set()\nfirst loop: {'a'}\nsecond loop: {'a'}\nsecond loop: {'a'}\nsecond loop: {'a'}\nsecond loop: {'a'}\nfirst loop: {'b'}\nsecond loop: {'b'}\n"
     ]
    }
   ],
   "source": [
    "pt2 = 0 #initialize the output\n",
    "for g in p: #for every group in the responde\n",
    "  i = set(g[0]) #init the intersect set\n",
    "  print(f'first loop: {i}')\n",
    "  for e in g: #for every person in the group\n",
    "    i = i & set(e) #compare their answers to the common answers of the previous group members\n",
    "    print(f'second loop: {i}')\n",
    "  pt2 += len(i) #add the number of responses that are the same"
   ]
  },
  {
   "cell_type": "code",
   "execution_count": 3,
   "metadata": {},
   "outputs": [
    {
     "output_type": "stream",
     "name": "stdout",
     "text": [
      "['abc', 'a\\nb\\nc', 'ab\\nac', 'a\\na\\na\\na', 'b\\n']\n['abc', 'abc', 'abac', 'aaaa', 'b']\n"
     ]
    }
   ],
   "source": [
    "with open('day6example.txt','r') as f:\n",
    "  t=f.read().split('\\n\\n') #split into groups right away\n",
    "\n",
    "#responses for the whole group\n",
    "g=[e.replace('\\n','') for e in t]\n",
    "print(t)\n",
    "print(g)"
   ]
  },
  {
   "source": [
    "Part One Solution"
   ],
   "cell_type": "markdown",
   "metadata": {}
  },
  {
   "cell_type": "code",
   "execution_count": 4,
   "metadata": {},
   "outputs": [
    {
     "output_type": "execute_result",
     "data": {
      "text/plain": [
       "6457"
      ]
     },
     "metadata": {},
     "execution_count": 4
    }
   ],
   "source": [
    "len(list(''.join([''.join(set(i.replace(' ',''))) for i in re.split('  ', ' '.join([j.strip() for j in open('day6.txt','r').readlines()]))])))"
   ]
  },
  {
   "source": [],
   "cell_type": "markdown",
   "metadata": {}
  },
  {
   "source": [
    "Part Two Solution"
   ],
   "cell_type": "markdown",
   "metadata": {}
  },
  {
   "cell_type": "code",
   "execution_count": 5,
   "metadata": {},
   "outputs": [
    {
     "output_type": "error",
     "ename": "NameError",
     "evalue": "name 'df' is not defined",
     "traceback": [
      "\u001b[0;31m---------------------------------------------------------------------------\u001b[0m",
      "\u001b[0;31mNameError\u001b[0m                                 Traceback (most recent call last)",
      "\u001b[0;32m<ipython-input-5-ce647a38b829>\u001b[0m in \u001b[0;36m<module>\u001b[0;34m\u001b[0m\n\u001b[0;32m----> 1\u001b[0;31m \u001b[0mprint\u001b[0m\u001b[0;34m(\u001b[0m\u001b[0mlist\u001b[0m\u001b[0;34m(\u001b[0m\u001b[0mset\u001b[0m\u001b[0;34m(\u001b[0m\u001b[0mdf\u001b[0m\u001b[0;34m[\u001b[0m\u001b[0;36m6\u001b[0m\u001b[0;34m]\u001b[0m\u001b[0;34m)\u001b[0m \u001b[0;34m&\u001b[0m \u001b[0mset\u001b[0m\u001b[0;34m(\u001b[0m\u001b[0mdf\u001b[0m\u001b[0;34m[\u001b[0m\u001b[0;36m7\u001b[0m\u001b[0;34m]\u001b[0m\u001b[0;34m)\u001b[0m\u001b[0;34m)\u001b[0m\u001b[0;34m)\u001b[0m\u001b[0;34m\u001b[0m\u001b[0;34m\u001b[0m\u001b[0m\n\u001b[0m",
      "\u001b[0;31mNameError\u001b[0m: name 'df' is not defined"
     ]
    }
   ],
   "source": [
    "print(list(set(df[6]) & set(df[7])))"
   ]
  },
  {
   "cell_type": "code",
   "execution_count": 5,
   "metadata": {},
   "outputs": [],
   "source": [
    "# for i in range(len(df)):\n",
    "#     for j in range(len(df)-1):\n",
    "#         if(df[i] != '' and df[j] != ''):\n",
    "#             print(df[i], df[j])\n",
    "#         # print(list(set(i) & set(i)))"
   ]
  },
  {
   "cell_type": "code",
   "execution_count": 6,
   "metadata": {},
   "outputs": [
    {
     "output_type": "execute_result",
     "data": {
      "text/plain": [
       "'ab'"
      ]
     },
     "metadata": {},
     "execution_count": 6
    }
   ],
   "source": [
    "df[6]"
   ]
  },
  {
   "cell_type": "code",
   "execution_count": null,
   "metadata": {},
   "outputs": [],
   "source": []
  }
 ]
}