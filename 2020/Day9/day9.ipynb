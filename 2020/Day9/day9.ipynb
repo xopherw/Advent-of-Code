{
 "metadata": {
  "language_info": {
   "codemirror_mode": {
    "name": "ipython",
    "version": 3
   },
   "file_extension": ".py",
   "mimetype": "text/x-python",
   "name": "python",
   "nbconvert_exporter": "python",
   "pygments_lexer": "ipython3",
   "version": "3.7.7-final"
  },
  "orig_nbformat": 2,
  "kernelspec": {
   "name": "python37764bit94f289c21ed947e48e90bdce96d5e757",
   "display_name": "Python 3.7.7 64-bit"
  }
 },
 "nbformat": 4,
 "nbformat_minor": 2,
 "cells": [
  {
   "cell_type": "code",
   "execution_count": 1,
   "metadata": {},
   "outputs": [],
   "source": [
    "import pandas as pd \n",
    "df = [int(i) for i in open('day9example.txt').read().splitlines()]"
   ]
  },
  {
   "source": [
    "Part One Solution"
   ],
   "cell_type": "markdown",
   "metadata": {}
  },
  {
   "cell_type": "code",
   "execution_count": 2,
   "metadata": {},
   "outputs": [
    {
     "output_type": "stream",
     "name": "stdout",
     "text": [
      "[127]\n"
     ]
    }
   ],
   "source": [
    "count = 0\n",
    "valid = []\n",
    "for i in df[5:]:   # Starting from 25th index\n",
    "    for j in df[count:count+5]:    # this help shift the row to next window\n",
    "        for k in df[count:count+5]:    #same thing as above\n",
    "             # this append the valid values in to valid list when j + k = i, and j != k\n",
    "            if(j + k == i and j != k): valid.append(i) \n",
    "\n",
    "    count+=1    # this counter is to help do the shifting\n",
    "\n",
    "# this is to find the missing value (which will be invalid) compare to the valid list\n",
    "invalid = sorted(set(df[5:]) - set(valid))   \n",
    "print(invalid)"
   ]
  },
  {
   "source": [],
   "cell_type": "markdown",
   "metadata": {}
  },
  {
   "source": [
    "Part Two Solution"
   ],
   "cell_type": "markdown",
   "metadata": {}
  },
  {
   "cell_type": "code",
   "execution_count": 3,
   "metadata": {},
   "outputs": [],
   "source": [
    "valid =[]\n",
    "count = 0\n",
    "for i in df: \n",
    "    # for j in df[:count+5]:    \n",
    "    #     for k in df[:count+5]:    \n",
    "    if(i < invalid[0]): \n",
    "        valid.append(i) \n",
    "\n",
    "a = sorted(set(valid))"
   ]
  },
  {
   "cell_type": "code",
   "execution_count": 4,
   "metadata": {},
   "outputs": [
    {
     "output_type": "execute_result",
     "data": {
      "text/plain": [
       "[15, 15, 15, 15, 15, 20, 20, 20, 20, 20, 20, 20, 25, 25, 35, 47]"
      ]
     },
     "metadata": {},
     "execution_count": 4
    }
   ],
   "source": [
    "b = []\n",
    "for i in a[:-3]:\n",
    "    for j in a[1:-2]:\n",
    "        for k in a[2:-1]:\n",
    "            for l in a[3:]:\n",
    "            #     for m in a[4:]:\n",
    "                if(i + j + k + l == invalid[0]): \n",
    "                    b.append(i)\n",
    "                    # b.append(j)\n",
    "                    # b.append(k)\n",
    "                    # b.append(l)\n",
    "b"
   ]
  },
  {
   "cell_type": "code",
   "execution_count": 5,
   "metadata": {},
   "outputs": [
    {
     "output_type": "execute_result",
     "data": {
      "text/plain": [
       "{15, 20, 25, 35, 47}"
      ]
     },
     "metadata": {},
     "execution_count": 5
    }
   ],
   "source": [
    "set(b)"
   ]
  },
  {
   "cell_type": "code",
   "execution_count": null,
   "metadata": {},
   "outputs": [],
   "source": []
  }
 ]
}